{
 "cells": [
  {
   "cell_type": "markdown",
   "metadata": {},
   "source": [
    "## Part 1. \n",
    "Task:  Analyze node types, edges, and relationships. Provide basic statistics, including node and edge counts and any significant relationships. "
   ]
  },
  {
   "cell_type": "markdown",
   "metadata": {},
   "source": [
    "## Dataset Description\n",
    "1. Nodes contain id, labels[Dataset, publication and scientific keyword] \\\n",
    "2. the last column in nodes.csv is properties which gives further information about the document\n",
    "   conclusion: The properties column should be encoded and used as node features"
   ]
  },
  {
   "cell_type": "code",
   "execution_count": 32,
   "metadata": {},
   "outputs": [],
   "source": [
    "# Keep all imports in this cell\n",
    "import pandas as pd\n",
    "import torch\n",
    "from torch_geometric.data import Data\n",
    "from sklearn.preprocessing import LabelEncoder\n",
    "import ast\n",
    "from sentence_transformers import SentenceTransformer"
   ]
  },
  {
   "cell_type": "markdown",
   "metadata": {},
   "source": [
    "## Solution\n",
    "\n",
    "The dataset needs to be represented as a PyG Data object, However the node features are in the form of text\n",
    "so it's better to get embeddings for them instead\n",
    "1. encode the node labels \\\n",
    "2. Generate representations for node properties to be used as node features\n",
    "    a. use onehot encoding\n",
    "    b. use text embeddings\n"
   ]
  },
  {
   "cell_type": "code",
   "execution_count": null,
   "metadata": {},
   "outputs": [],
   "source": [
    "\n",
    "# Load the model once\n",
    "model = SentenceTransformer('sentence-transformers/all-MiniLM-L6-v2')\n",
    "\n",
    "#function for converting node properties into text embeddings\n",
    "def properties_to_embedding(properties):\n",
    "    # If properties is None or empty, return None\n",
    "    if not properties:\n",
    "        return None\n",
    "    \n",
    "    # Convert all properties to a single string\n",
    "    # Use key-value pairs to preserve context\n",
    "    property_strings = [f\"{key}: {value}\" for key, value in properties.items() if value]\n",
    "    \n",
    "    # Join the properties into a single string\n",
    "    full_text = \" | \".join(property_strings)\n",
    "    \n",
    "    # Generate embedding\n",
    "    return model.encode(full_text)\n",
    "\n",
    "#helper function for getting relationship embeddings \n"
   ]
  },
  {
   "cell_type": "code",
   "execution_count": 36,
   "metadata": {},
   "outputs": [],
   "source": [
    "nodes_df = pd.read_csv(\"Dataset/nodes.csv\")\n",
    "Enc=  LabelEncoder()\n",
    "nodes_df['label'] = Enc.fit_transform(nodes_df['label'])\n",
    "nodes_df[\"properties\"] = nodes_df[\"properties\"].apply(ast.literal_eval)\n",
    "nodes_df['properties'] = nodes_df['properties'].apply(properties_to_embedding)"
   ]
  },
  {
   "cell_type": "code",
   "execution_count": 37,
   "metadata": {},
   "outputs": [
    {
     "data": {
      "text/html": [
       "<div>\n",
       "<style scoped>\n",
       "    .dataframe tbody tr th:only-of-type {\n",
       "        vertical-align: middle;\n",
       "    }\n",
       "\n",
       "    .dataframe tbody tr th {\n",
       "        vertical-align: top;\n",
       "    }\n",
       "\n",
       "    .dataframe thead th {\n",
       "        text-align: right;\n",
       "    }\n",
       "</style>\n",
       "<table border=\"1\" class=\"dataframe\">\n",
       "  <thead>\n",
       "    <tr style=\"text-align: right;\">\n",
       "      <th></th>\n",
       "      <th>id</th>\n",
       "      <th>label</th>\n",
       "      <th>properties</th>\n",
       "    </tr>\n",
       "  </thead>\n",
       "  <tbody>\n",
       "    <tr>\n",
       "      <th>0</th>\n",
       "      <td>0</td>\n",
       "      <td>1</td>\n",
       "      <td>[-0.056339294, -0.07814679, -0.024745723, -0.0...</td>\n",
       "    </tr>\n",
       "    <tr>\n",
       "      <th>1</th>\n",
       "      <td>1</td>\n",
       "      <td>1</td>\n",
       "      <td>[-0.0901361, -0.056588154, 0.023120109, 0.0231...</td>\n",
       "    </tr>\n",
       "    <tr>\n",
       "      <th>2</th>\n",
       "      <td>2</td>\n",
       "      <td>1</td>\n",
       "      <td>[0.028579466, 0.02933162, 0.017187452, 0.01399...</td>\n",
       "    </tr>\n",
       "    <tr>\n",
       "      <th>3</th>\n",
       "      <td>3</td>\n",
       "      <td>1</td>\n",
       "      <td>[-0.06625115, -0.034307364, 0.070921, -0.03396...</td>\n",
       "    </tr>\n",
       "    <tr>\n",
       "      <th>4</th>\n",
       "      <td>4</td>\n",
       "      <td>1</td>\n",
       "      <td>[0.015955979, -0.021838093, 0.0187536, -0.0480...</td>\n",
       "    </tr>\n",
       "  </tbody>\n",
       "</table>\n",
       "</div>"
      ],
      "text/plain": [
       "   id  label                                         properties\n",
       "0   0      1  [-0.056339294, -0.07814679, -0.024745723, -0.0...\n",
       "1   1      1  [-0.0901361, -0.056588154, 0.023120109, 0.0231...\n",
       "2   2      1  [0.028579466, 0.02933162, 0.017187452, 0.01399...\n",
       "3   3      1  [-0.06625115, -0.034307364, 0.070921, -0.03396...\n",
       "4   4      1  [0.015955979, -0.021838093, 0.0187536, -0.0480..."
      ]
     },
     "execution_count": 37,
     "metadata": {},
     "output_type": "execute_result"
    }
   ],
   "source": [
    "nodes_df.head()"
   ]
  },
  {
   "cell_type": "code",
   "execution_count": 43,
   "metadata": {},
   "outputs": [
    {
     "name": "stdout",
     "output_type": "stream",
     "text": [
      "Data(x=[5763, 384], edge_index=[2, 13820], edge_attr=[13820], y=[5763], val_pos_edge_index=[2, 860], test_pos_edge_index=[2, 861])\n",
      "Relationship Mapping: {0: 'HAS_DATASET', 1: 'HAS_INSTRUMENT', 2: 'HAS_PLATFORM', 3: 'HAS_SCIENCEKEYWORD', 4: 'OF_PROJECT', 5: 'SUBCATEGORY_OF', 6: 'USES_DATASET'}\n"
     ]
    }
   ],
   "source": [
    "# Extract node labels\n",
    "node_labels = torch.tensor(nodes_df['label'].values, dtype=torch.long)\n",
    "\n",
    "# Extract node embeddings\n",
    "node_features = torch.tensor(nodes_df['properties'].tolist(), dtype=torch.float)\n",
    "\n",
    "\n",
    "#Handling Edges require a bit of manipulation\n",
    "\n",
    "# Load edges\n",
    "train_edges_df = pd.read_csv(\"Dataset/train_edges.csv\")\n",
    "val_edges_df = pd.read_csv(\"Dataset/val_links.csv\")\n",
    "test_edges_df = pd.read_csv(\"Dataset/test_links.csv\")\n",
    "\n",
    "# Create a LabelEncoder for relationship types\n",
    "relationship_encoder = LabelEncoder()\n",
    "\n",
    "# Fit and transform the relationship types\n",
    "train_edges_df['relationship_encoded'] = relationship_encoder.fit_transform(train_edges_df['relationship_type'])\n",
    "\n",
    "# Convert edges to tensor\n",
    "train_edges = torch.tensor(train_edges_df[['source', 'target']].values.T, dtype=torch.long)\n",
    "val_edges = torch.tensor(val_edges_df[['source', 'target']].values.T, dtype=torch.long)\n",
    "test_edges = torch.tensor(test_edges_df[['source', 'target']].values.T, dtype=torch.long)\n",
    "\n",
    "# Convert encoded relationships to tensor\n",
    "train_edge_attrs = torch.tensor(train_edges_df['relationship_encoded'].values, dtype=torch.long)\n",
    "# Create graph data object\n",
    "data = Data(\n",
    "    x=node_features,          # Node features\n",
    "    y=node_labels,            # Node labels\n",
    "    edge_index=train_edges,   # Edge indices\n",
    "    edge_attr=train_edge_attrs,  # Encoded edge attributes\n",
    "    val_pos_edge_index=val_edges,\n",
    "    test_pos_edge_index=test_edges,\n",
    ")\n",
    "\n",
    "print(data)\n",
    "\n",
    "#  to keep track of the mapping\n",
    "relationship_mapping = dict(enumerate(relationship_encoder.classes_))\n",
    "print(\"Relationship Mapping:\", relationship_mapping)"
   ]
  }
 ],
 "metadata": {
  "kernelspec": {
   "display_name": "venv",
   "language": "python",
   "name": "python3"
  },
  "language_info": {
   "codemirror_mode": {
    "name": "ipython",
    "version": 3
   },
   "file_extension": ".py",
   "mimetype": "text/x-python",
   "name": "python",
   "nbconvert_exporter": "python",
   "pygments_lexer": "ipython3",
   "version": "3.12.9"
  }
 },
 "nbformat": 4,
 "nbformat_minor": 2
}
